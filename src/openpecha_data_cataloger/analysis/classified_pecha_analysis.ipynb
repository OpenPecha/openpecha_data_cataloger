{
 "cells": [
  {
   "cell_type": "code",
   "execution_count": 2,
   "metadata": {},
   "outputs": [
    {
     "name": "stdout",
     "output_type": "stream",
     "text": [
      "Number of Repos: 22393\n",
      "Numer of classified repos: 22393\n"
     ]
    }
   ],
   "source": [
    "import json \n",
    "from openpecha_data_cataloger.config import DATA_DIR\n",
    "\n",
    "repo_list = DATA_DIR / \"all_repo_names.txt\"\n",
    "repo_names = repo_list.read_text().splitlines()\n",
    "\n",
    "\n",
    "classified_repos_path = DATA_DIR / \"classified_repo.json\"\n",
    "classified_repos = json.loads(classified_repos_path.read_text())\n",
    "\n",
    "print(f\"Number of Repos: {len(repo_names)}\")\n",
    "print(f\"Numer of classified repos: {len(classified_repos.keys())}\")"
   ]
  },
  {
   "cell_type": "code",
   "execution_count": 3,
   "metadata": {},
   "outputs": [],
   "source": [
    "\"\"\"checking for missing repos\"\"\"\n",
    "for index, repo_name in enumerate(repo_names):\n",
    "    if repo_name not in classified_repos:\n",
    "        print(repo_name)"
   ]
  },
  {
   "cell_type": "code",
   "execution_count": 4,
   "metadata": {},
   "outputs": [
    {
     "name": "stdout",
     "output_type": "stream",
     "text": [
      "OPF: 21781\n",
      "Other: 50\n",
      "OPA: 330\n",
      "Error: Unable to access repository: 226\n",
      "OPC: 6\n"
     ]
    }
   ],
   "source": [
    "\"\"\"Checking what kinds of values are there in the classified repos\"\"\"\n",
    "def value_frequency(dictionary):\n",
    "    frequency = {}\n",
    "    for value in dictionary.values():\n",
    "        if value in frequency:\n",
    "            frequency[value] += 1\n",
    "        else:\n",
    "            frequency[value] = 1\n",
    "\n",
    "    return frequency\n",
    "\n",
    "result = value_frequency(classified_repos)\n",
    "for key, value in result.items():\n",
    "    print(f\"{key}: {value}\")"
   ]
  },
  {
   "cell_type": "code",
   "execution_count": 5,
   "metadata": {},
   "outputs": [
    {
     "name": "stdout",
     "output_type": "stream",
     "text": [
      "Pechas with no files:\n",
      "Few examples:['P1A00B0C1', 'PC3291C93', 'PC88C8EEC', 'PC40460F9', 'PB74E44AD']\n"
     ]
    }
   ],
   "source": [
    "pechas_with_unknown = []\n",
    "for repo_name, category in classified_repos.items():\n",
    "    if category == 'Error: Unable to access repository':\n",
    "        pechas_with_unknown.append(repo_name)\n",
    "print(\"Pechas with no files:\")\n",
    "print(\"Few examples:\", end=\"\")\n",
    "print(pechas_with_unknown[:5])"
   ]
  },
  {
   "cell_type": "code",
   "execution_count": 6,
   "metadata": {},
   "outputs": [
    {
     "name": "stdout",
     "output_type": "stream",
     "text": [
      "Pechas with OPC labels:\n",
      "['C1A81F448', 'C1A81F448-sandbox', 'C71432D74', 'C65232E71', 'C0A2DD042', 'C85C68464']\n"
     ]
    }
   ],
   "source": [
    "pechas_with_opc_labels = []\n",
    "for repo_name, category in classified_repos.items():\n",
    "    if category == 'OPC':\n",
    "        pechas_with_opc_labels.append(repo_name)\n",
    "print(\"Pechas with OPC labels:\")\n",
    "print(pechas_with_opc_labels)"
   ]
  },
  {
   "cell_type": "code",
   "execution_count": 7,
   "metadata": {},
   "outputs": [
    {
     "name": "stdout",
     "output_type": "stream",
     "text": [
      "Pechas that are not datas:\n",
      "['catalog', 'ebook-template', 'P000007', 'works-bak', 'P000778', 'P000779', 'P000781', 'P000782', 'P000783', 'P000784', 'P000785', 'P000786', 'users', 'P000797', 'P000796', 'Collections', 'alignments', '3ac06e49863c4206b47ef4e324c7a5bb', 'data-translation-memory', 'Transifex-Glossary', 'C71A07F76', 'works', 'corpus_catalog', '01-Nagarjuna-works', '02-Aryadeva-works', '03-Buddhapalita-works', '04-Bhavaviveka-works', '05-Chandrakirti-works', '06-Shantideva-works', '07-Shantarakshita-works', '08-Kamalashila-works', '09-Asanga-works', '10-Vasubandhu-works', '11-Dignaga-works', '12-Dharmakirti-works', '13-Arya-Vimuktisena-works', '14-Haribhadra-works', '15-Gunaprabha-works', '16-Shakyaprabha-works', '17-Atisha-works', 'Khenrap-Gyatso-', '.github', 'D3871', 'Openpecha_Action', 'I24F34904', 'I000001', 'C9228DDB8', 'I9B2646BE', 'alignment-collection-repo-template', 'pecha-collection-repo-template']\n"
     ]
    }
   ],
   "source": [
    "pechas_with_other_label = []\n",
    "for repo_name, category in classified_repos.items():\n",
    "    if category == 'Other':\n",
    "        pechas_with_other_label.append(repo_name)\n",
    "print(\"Pechas that are not datas:\")\n",
    "print(pechas_with_other_label)"
   ]
  },
  {
   "cell_type": "markdown",
   "metadata": {},
   "source": [
    " Few pechas here with other labels contains data but data are not embedded into proper folder format such as 'P000007.opf', here the .txt files are on the first root level or base folder in the root level and so on. Modification is needed here."
   ]
  },
  {
   "cell_type": "code",
   "execution_count": null,
   "metadata": {},
   "outputs": [],
   "source": []
  }
 ],
 "metadata": {
  "kernelspec": {
   "display_name": ".venv",
   "language": "python",
   "name": "python3"
  },
  "language_info": {
   "codemirror_mode": {
    "name": "ipython",
    "version": 3
   },
   "file_extension": ".py",
   "mimetype": "text/x-python",
   "name": "python",
   "nbconvert_exporter": "python",
   "pygments_lexer": "ipython3",
   "version": "3.9.14"
  }
 },
 "nbformat": 4,
 "nbformat_minor": 2
}
