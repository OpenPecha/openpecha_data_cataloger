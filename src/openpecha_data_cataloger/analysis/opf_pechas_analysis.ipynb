{
 "cells": [
  {
   "cell_type": "code",
   "execution_count": 6,
   "metadata": {},
   "outputs": [
    {
     "name": "stdout",
     "output_type": "stream",
     "text": [
      "Number of opf pechas: 21781\n",
      "['openpecha-template', 'P000003', 'P000001', 'P000002', 'P000270', 'P000080', 'P000073', 'P000262', 'P000193', 'P000255']\n"
     ]
    }
   ],
   "source": [
    "import json \n",
    "from openpecha_data_cataloger.config import DATA_DIR\n",
    "\n",
    "classified_repos_path = DATA_DIR / \"classified_repo.json\"\n",
    "classified_repos = json.loads(classified_repos_path.read_text())\n",
    "\n",
    "opf_pechas = [pecha for pecha, label  in classified_repos.items() if label == \"OPF\"]\n",
    "print(f\"Number of opf pechas: {len(opf_pechas)}\")\n",
    "print(opf_pechas[:10])"
   ]
  },
  {
   "cell_type": "code",
   "execution_count": 7,
   "metadata": {},
   "outputs": [
    {
     "name": "stdout",
     "output_type": "stream",
     "text": [
      "Number of opf pechas: 21780\n"
     ]
    }
   ],
   "source": [
    "opf_pechas.remove('openpecha-template')\n",
    "print(f\"Number of opf pechas: {len(opf_pechas)}\")\n",
    "with open(DATA_DIR / \"opf_pechas.txt\", \"w\") as f:\n",
    "    f.write(\"\\n\".join(opf_pechas))"
   ]
  },
  {
   "cell_type": "code",
   "execution_count": 15,
   "metadata": {},
   "outputs": [
    {
     "name": "stdout",
     "output_type": "stream",
     "text": [
      "Opf pechas starting characters:>\n",
      "P: 2013\n",
      "6: 34\n",
      "d: 14\n",
      "b: 10\n",
      "1: 27\n",
      "0: 26\n",
      "9: 20\n",
      "8: 18\n",
      "3: 25\n",
      "4: 17\n",
      "a: 14\n",
      "c: 24\n",
      "e: 18\n",
      "f: 19\n",
      "5: 23\n",
      "2: 27\n",
      "W: 1\n",
      "7: 18\n",
      "D: 1119\n",
      "I: 13594\n",
      "O: 4719\n"
     ]
    }
   ],
   "source": [
    "def starting_char_frequency(strings):\n",
    "    frequency = {}\n",
    "    for s in strings:\n",
    "        if s:  \n",
    "            first_char = s[0]\n",
    "            if first_char in frequency:\n",
    "                frequency[first_char] += 1\n",
    "            else:\n",
    "                frequency[first_char] = 1\n",
    "\n",
    "    return frequency\n",
    "\n",
    "print(\"Opf pechas starting characters:>\")\n",
    "start_char_frequency = starting_char_frequency(opf_pechas)\n",
    "for starting_char, freq in start_char_frequency.items():\n",
    "    print(f\"{starting_char}: {freq}\")\n",
    "\n"
   ]
  },
  {
   "cell_type": "code",
   "execution_count": 16,
   "metadata": {},
   "outputs": [
    {
     "name": "stdout",
     "output_type": "stream",
     "text": [
      "After some modification:>\n",
      "Others: 335\n",
      "P: 2013\n",
      "D: 1119\n",
      "I: 13594\n",
      "O: 4719\n"
     ]
    }
   ],
   "source": [
    "new_start_char_frequency = {'Others':0}\n",
    "for starting_char, freq in start_char_frequency.items():\n",
    "    if starting_char in ['P','I','O','D']:\n",
    "        new_start_char_frequency[starting_char] = freq\n",
    "    else:\n",
    "        new_start_char_frequency['Others'] += freq\n",
    "\n",
    "print(\"After some modification:>\")\n",
    "for starting_char, freq in new_start_char_frequency.items():\n",
    "    print(f\"{starting_char}: {freq}\")\n"
   ]
  },
  {
   "cell_type": "code",
   "execution_count": 17,
   "metadata": {},
   "outputs": [
    {
     "name": "stdout",
     "output_type": "stream",
     "text": [
      "Number of opf pechas starts with P: 2013\n"
     ]
    }
   ],
   "source": [
    "from typing import List \n",
    "def filter_by_starting_char(strings: List, starting_char: str):\n",
    "    return [s for s in strings if s and s[0] == starting_char]\n",
    "\n",
    "opf_pecha_starts_with_P = filter_by_starting_char(opf_pechas, 'P')\n",
    "print(f\"Number of opf pechas starts with P: {len(opf_pecha_starts_with_P)}\")"
   ]
  },
  {
   "cell_type": "code",
   "execution_count": null,
   "metadata": {},
   "outputs": [],
   "source": []
  }
 ],
 "metadata": {
  "kernelspec": {
   "display_name": ".venv",
   "language": "python",
   "name": "python3"
  },
  "language_info": {
   "codemirror_mode": {
    "name": "ipython",
    "version": 3
   },
   "file_extension": ".py",
   "mimetype": "text/x-python",
   "name": "python",
   "nbconvert_exporter": "python",
   "pygments_lexer": "ipython3",
   "version": "3.9.14"
  }
 },
 "nbformat": 4,
 "nbformat_minor": 2
}
