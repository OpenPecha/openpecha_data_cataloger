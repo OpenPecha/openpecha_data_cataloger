{
 "cells": [
  {
   "cell_type": "code",
   "execution_count": 2,
   "metadata": {},
   "outputs": [
    {
     "name": "stdout",
     "output_type": "stream",
     "text": [
      "21781\n"
     ]
    }
   ],
   "source": [
    "from pathlib import Path \n",
    "from openpecha_data_cataloger.config import DATA_DIR \n",
    "\n",
    "\n",
    "opf_pechas = Path(DATA_DIR / 'opf_pechas.txt').read_text().split('\\n')\n",
    "print(len(opf_pechas))"
   ]
  },
  {
   "cell_type": "code",
   "execution_count": 3,
   "metadata": {},
   "outputs": [
    {
     "name": "stdout",
     "output_type": "stream",
     "text": [
      "Opf pechas starting characters:>\n",
      "After some modification:>\n",
      "Others: 335\n",
      "P: 2013\n",
      "D: 1119\n",
      "I: 13594\n",
      "O: 4719\n"
     ]
    }
   ],
   "source": [
    "def starting_char_frequency(strings):\n",
    "    frequency = {}\n",
    "    for s in strings:\n",
    "        if s:  \n",
    "            first_char = s[0]\n",
    "            if first_char in frequency:\n",
    "                frequency[first_char] += 1\n",
    "            else:\n",
    "                frequency[first_char] = 1\n",
    "\n",
    "    return frequency\n",
    "\n",
    "print(\"Opf pechas starting characters:>\")\n",
    "start_char_frequency = starting_char_frequency(opf_pechas)\n",
    "\n",
    "new_start_char_frequency = {'Others':0}\n",
    "for starting_char, freq in start_char_frequency.items():\n",
    "    if starting_char in ['P','I','O','D']:\n",
    "        new_start_char_frequency[starting_char] = freq\n",
    "    else:\n",
    "        new_start_char_frequency['Others'] += freq\n",
    "\n",
    "print(\"After some modification:>\")\n",
    "for starting_char, freq in new_start_char_frequency.items():\n",
    "    print(f\"{starting_char}: {freq}\")"
   ]
  },
  {
   "cell_type": "markdown",
   "metadata": {},
   "source": [
    "OPFs starting with 'D' annotation report"
   ]
  },
  {
   "cell_type": "code",
   "execution_count": 4,
   "metadata": {},
   "outputs": [
    {
     "name": "stdout",
     "output_type": "stream",
     "text": [
      "Number of opf pechas that start with D: 1119\n",
      "few examples: ['D8B94A4B1', 'D4D424EB2', 'D443E7614', 'DC58D04A4', 'DB432CA33', 'D264064B4', 'DC109AB7D', 'D643D7B8A', 'D19F4E2F9', 'D2D200042']\n"
     ]
    }
   ],
   "source": [
    "from typing import List \n",
    "def filter_by_starting_char(strings: List, starting_char: str):\n",
    "    return [s for s in strings if s and s[0] == starting_char]\n",
    "\n",
    "D_opf_pechas = filter_by_starting_char(opf_pechas, 'D')\n",
    "print(f\"Number of opf pechas that start with D: {len(D_opf_pechas)}\")\n",
    "print(f\"few examples: {D_opf_pechas[:10]}\")\n",
    "\n",
    "\n",
    "with open(DATA_DIR / 'opf_pechas_batch'/ 'D_opf_pechas.txt', 'w') as f:\n",
    "    f.write('\\n'.join(D_opf_pechas))"
   ]
  },
  {
   "cell_type": "code",
   "execution_count": 5,
   "metadata": {},
   "outputs": [
    {
     "name": "stdout",
     "output_type": "stream",
     "text": [
      "Number of rows in the report: 2708\n",
      "Number of unique pechas in the report: 1119\n"
     ]
    }
   ],
   "source": [
    "import pandas as pd \n",
    "\n",
    "D_annotation_content_report_path = DATA_DIR / 'annotation_content_reports' / 'D_annotation_content_report.csv'\n",
    "D_annotation_content_report_df = pd.read_csv(D_annotation_content_report_path)\n",
    "number_of_rows = len(D_annotation_content_report_df)\n",
    "print(f\"Number of rows in the report: {number_of_rows}\")\n",
    "print(f\"Number of unique pechas in the report: {len(D_annotation_content_report_df['pecha_id'].unique())}\")\n"
   ]
  },
  {
   "cell_type": "code",
   "execution_count": 6,
   "metadata": {},
   "outputs": [],
   "source": [
    "\"\"\"Checking if all the pechas in the report are in the D_opf_pechas\"\"\"\n",
    "for D_opf_pecha in D_opf_pechas:\n",
    "    if D_opf_pecha not in D_annotation_content_report_df['pecha_id'].values:\n",
    "        print(D_opf_pecha)"
   ]
  },
  {
   "cell_type": "markdown",
   "metadata": {},
   "source": [
    "OPFs starting with 'O' annotation report"
   ]
  },
  {
   "cell_type": "code",
   "execution_count": 7,
   "metadata": {},
   "outputs": [
    {
     "name": "stdout",
     "output_type": "stream",
     "text": [
      "Number of opf pechas that start with O: 4719\n",
      "few examples: ['O65B596C4', 'O4A3A200F', 'O481F4333', 'OB7654EDE', 'OC265D8CC', 'O571B737A', 'O1B49BD6A', 'O536D1AA4', 'O3DAA0784', 'O77271183']\n"
     ]
    }
   ],
   "source": [
    "from typing import List \n",
    "def filter_by_starting_char(strings: List, starting_char: str):\n",
    "    return [s for s in strings if s and s[0] == starting_char]\n",
    "\n",
    "O_opf_pechas = filter_by_starting_char(opf_pechas, 'O')\n",
    "print(f\"Number of opf pechas that start with O: {len(O_opf_pechas)}\")\n",
    "print(f\"few examples: {O_opf_pechas[:10]}\")\n",
    "\n",
    "\n",
    "with open(DATA_DIR / 'opf_pechas_batch'/ 'O_opf_pechas.txt', 'w') as f:\n",
    "    f.write('\\n'.join(O_opf_pechas))"
   ]
  },
  {
   "cell_type": "code",
   "execution_count": 8,
   "metadata": {},
   "outputs": [
    {
     "name": "stdout",
     "output_type": "stream",
     "text": [
      "Number of rows in the report: 32\n",
      "Number of unique pechas in the report: 12\n"
     ]
    }
   ],
   "source": [
    "import pandas as pd \n",
    "\n",
    "O_annotation_content_report_path = DATA_DIR / 'annotation_content_reports' / 'O_annotation_content_report.csv'\n",
    "O_annotation_content_report_df = pd.read_csv(O_annotation_content_report_path)\n",
    "number_of_rows = len(O_annotation_content_report_df)\n",
    "O_unique_pechas = O_annotation_content_report_df['pecha_id'].unique()\n",
    "print(f\"Number of rows in the report: {number_of_rows}\")\n",
    "print(f\"Number of unique pechas in the report: {len(O_unique_pechas)}\")\n"
   ]
  },
  {
   "cell_type": "markdown",
   "metadata": {},
   "source": [
    "OPFs starting with 'I' annotation report"
   ]
  },
  {
   "cell_type": "code",
   "execution_count": 19,
   "metadata": {},
   "outputs": [
    {
     "name": "stdout",
     "output_type": "stream",
     "text": [
      "Number of opf pechas that start with I: 13594\n",
      "few examples: ['IA94644A4', 'IC449C728', 'ICCE6909C', 'IBD7143A5', 'IBD006820', 'ICA56A6A6', 'IA87687F7', 'IA1EE5242', 'I790E2927', 'I4A52F059']\n"
     ]
    }
   ],
   "source": [
    "from typing import List \n",
    "def filter_by_starting_char(strings: List, starting_char: str):\n",
    "    return [s for s in strings if s and s[0] == starting_char]\n",
    "\n",
    "I_opf_pechas = filter_by_starting_char(opf_pechas, 'I')\n",
    "print(f\"Number of opf pechas that start with I: {len(I_opf_pechas)}\")\n",
    "print(f\"few examples: {I_opf_pechas[:10]}\")\n",
    "\n",
    "\n",
    "with open(DATA_DIR / 'opf_pechas_batch'/ 'I_opf_pechas.txt', 'w') as f:\n",
    "    f.write('\\n'.join(I_opf_pechas))"
   ]
  },
  {
   "cell_type": "code",
   "execution_count": 10,
   "metadata": {},
   "outputs": [
    {
     "name": "stdout",
     "output_type": "stream",
     "text": [
      "Number of rows in the report: 32715\n",
      "Number of unique pechas in the report: 5422\n"
     ]
    }
   ],
   "source": [
    "import pandas as pd \n",
    "\n",
    "I_annotation_content_report_path = DATA_DIR / 'annotation_content_reports' / 'I_annotation_content_report.csv'\n",
    "I_annotation_content_report_df = pd.read_csv(I_annotation_content_report_path)\n",
    "number_of_rows = len(I_annotation_content_report_df)\n",
    "I_unique_pechas = I_annotation_content_report_df['pecha_id'].unique()\n",
    "print(f\"Number of rows in the report: {number_of_rows}\")\n",
    "print(f\"Number of unique pechas in the report: {len(I_unique_pechas)}\")\n"
   ]
  },
  {
   "cell_type": "code",
   "execution_count": 17,
   "metadata": {},
   "outputs": [
    {
     "name": "stdout",
     "output_type": "stream",
     "text": [
      "Number of rows in the error file: 8156\n"
     ]
    }
   ],
   "source": [
    "error_file_path= DATA_DIR / 'annotation_content_reports' / 'I_annotation_content_error_log.txt'\n",
    "Number_of_rows = Path(error_file_path).read_text().splitlines()\n",
    "print(f\"Number of rows in the error file: {len(Number_of_rows)}\")"
   ]
  },
  {
   "cell_type": "code",
   "execution_count": 22,
   "metadata": {},
   "outputs": [
    {
     "name": "stdout",
     "output_type": "stream",
     "text": [
      "13594\n"
     ]
    }
   ],
   "source": [
    "def remove_duplicates(my_list):\n",
    "    seen = set()\n",
    "    return [x for x in my_list if not (x in seen or seen.add(x))]\n",
    "\n",
    "# Example usage\n",
    "unique_I_opf_pechas = remove_duplicates(I_opf_pechas)\n",
    "print(len(unique_I_opf_pechas))\n"
   ]
  },
  {
   "cell_type": "code",
   "execution_count": 26,
   "metadata": {},
   "outputs": [
    {
     "name": "stdout",
     "output_type": "stream",
     "text": [
      "<class 'list'>\n",
      "<class 'numpy.ndarray'>\n",
      "Number of pechas in the report and error log: 13578\n"
     ]
    }
   ],
   "source": [
    "pechas_in_error_log = [line.split(':')[0].strip() for line in Number_of_rows]\n",
    "pechas_in_report_and_error_log = list(I_unique_pechas) + pechas_in_error_log\n",
    "print(f\"Number of pechas in the report and error log: {len(pechas_in_report_and_error_log)}\")"
   ]
  },
  {
   "cell_type": "code",
   "execution_count": 27,
   "metadata": {},
   "outputs": [
    {
     "name": "stdout",
     "output_type": "stream",
     "text": [
      "I0D61A2B8\n",
      "IF45FCF33\n",
      "I22251741\n",
      "IBCE1B1CF\n",
      "IE681C7B5\n",
      "I875DB0B7\n",
      "IE9A71B9B\n",
      "I83B3ABF1\n",
      "I3224C336\n",
      "ID7D49747\n",
      "I3AE738A7\n",
      "I1DBB1BDF\n",
      "I22634142\n",
      "I674D9A29\n",
      "I384896EB\n",
      "I742A499C\n",
      "I99A1832D\n",
      "IF6DC3CE2\n",
      "I583F5EE8\n",
      "IE2462EFF\n",
      "I49DDD966\n",
      "IB5279785\n",
      "IB8BB4B98\n",
      "IEC2F4E24\n",
      "I6307E7B0\n",
      "IFA40B425\n"
     ]
    }
   ],
   "source": [
    "for I_pecha in unique_I_opf_pechas:\n",
    "    if I_pecha not in pechas_in_report_and_error_log:\n",
    "        print(I_pecha)"
   ]
  },
  {
   "cell_type": "code",
   "execution_count": null,
   "metadata": {},
   "outputs": [],
   "source": []
  }
 ],
 "metadata": {
  "kernelspec": {
   "display_name": ".venv",
   "language": "python",
   "name": "python3"
  },
  "language_info": {
   "codemirror_mode": {
    "name": "ipython",
    "version": 3
   },
   "file_extension": ".py",
   "mimetype": "text/x-python",
   "name": "python",
   "nbconvert_exporter": "python",
   "pygments_lexer": "ipython3",
   "version": "3.9.14"
  }
 },
 "nbformat": 4,
 "nbformat_minor": 2
}
