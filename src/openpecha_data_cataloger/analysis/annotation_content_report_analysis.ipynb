{
 "cells": [
  {
   "cell_type": "code",
   "execution_count": 2,
   "metadata": {},
   "outputs": [
    {
     "name": "stdout",
     "output_type": "stream",
     "text": [
      "21781\n"
     ]
    }
   ],
   "source": [
    "from pathlib import Path \n",
    "from openpecha_data_cataloger.config import DATA_DIR \n",
    "\n",
    "\n",
    "opf_pechas = Path(DATA_DIR / 'opf_pechas.txt').read_text().split('\\n')\n",
    "print(len(opf_pechas))"
   ]
  },
  {
   "cell_type": "code",
   "execution_count": 3,
   "metadata": {},
   "outputs": [
    {
     "name": "stdout",
     "output_type": "stream",
     "text": [
      "Opf pechas starting characters:>\n",
      "After some modification:>\n",
      "Others: 335\n",
      "P: 2013\n",
      "D: 1119\n",
      "I: 13594\n",
      "O: 4719\n"
     ]
    }
   ],
   "source": [
    "def starting_char_frequency(strings):\n",
    "    frequency = {}\n",
    "    for s in strings:\n",
    "        if s:  \n",
    "            first_char = s[0]\n",
    "            if first_char in frequency:\n",
    "                frequency[first_char] += 1\n",
    "            else:\n",
    "                frequency[first_char] = 1\n",
    "\n",
    "    return frequency\n",
    "\n",
    "print(\"Opf pechas starting characters:>\")\n",
    "start_char_frequency = starting_char_frequency(opf_pechas)\n",
    "\n",
    "new_start_char_frequency = {'Others':0}\n",
    "for starting_char, freq in start_char_frequency.items():\n",
    "    if starting_char in ['P','I','O','D']:\n",
    "        new_start_char_frequency[starting_char] = freq\n",
    "    else:\n",
    "        new_start_char_frequency['Others'] += freq\n",
    "\n",
    "print(\"After some modification:>\")\n",
    "for starting_char, freq in new_start_char_frequency.items():\n",
    "    print(f\"{starting_char}: {freq}\")"
   ]
  },
  {
   "cell_type": "code",
   "execution_count": 4,
   "metadata": {},
   "outputs": [
    {
     "name": "stdout",
     "output_type": "stream",
     "text": [
      "Number of opf pechas that start with D: 1119\n",
      "few examples: ['D8B94A4B1', 'D4D424EB2', 'D443E7614', 'DC58D04A4', 'DB432CA33', 'D264064B4', 'DC109AB7D', 'D643D7B8A', 'D19F4E2F9', 'D2D200042']\n"
     ]
    }
   ],
   "source": [
    "from typing import List \n",
    "def filter_by_starting_char(strings: List, starting_char: str):\n",
    "    return [s for s in strings if s and s[0] == starting_char]\n",
    "\n",
    "D_opf_pechas = filter_by_starting_char(opf_pechas, 'D')\n",
    "print(f\"Number of opf pechas that start with D: {len(D_opf_pechas)}\")\n",
    "print(f\"few examples: {D_opf_pechas[:10]}\")\n",
    "\n",
    "\n",
    "with open(DATA_DIR / 'opf_pechas_batch'/ 'D_opf_pechas.txt', 'w') as f:\n",
    "    f.write('\\n'.join(D_opf_pechas))"
   ]
  },
  {
   "cell_type": "markdown",
   "metadata": {},
   "source": [
    "OPFs starting with 'D' annotation report"
   ]
  },
  {
   "cell_type": "code",
   "execution_count": 5,
   "metadata": {},
   "outputs": [
    {
     "name": "stdout",
     "output_type": "stream",
     "text": [
      "Number of rows in the report: 2708\n",
      "Number of unique pechas in the report: 1119\n"
     ]
    }
   ],
   "source": [
    "import pandas as pd \n",
    "\n",
    "D_annotation_content_report_path = DATA_DIR / 'annotation_content_reports' / 'D_annotation_content_report.csv'\n",
    "D_annotation_content_report_df = pd.read_csv(D_annotation_content_report_path)\n",
    "number_of_rows = len(D_annotation_content_report_df)\n",
    "print(f\"Number of rows in the report: {number_of_rows}\")\n",
    "print(f\"Number of unique pechas in the report: {len(D_annotation_content_report_df['pecha_id'].unique())}\")\n"
   ]
  },
  {
   "cell_type": "code",
   "execution_count": 6,
   "metadata": {},
   "outputs": [],
   "source": [
    "\"\"\"Checking if all the pechas in the report are in the D_opf_pechas\"\"\"\n",
    "for D_opf_pecha in D_opf_pechas:\n",
    "    if D_opf_pecha not in D_annotation_content_report_df['pecha_id'].values:\n",
    "        print(D_opf_pecha)"
   ]
  },
  {
   "cell_type": "code",
   "execution_count": 7,
   "metadata": {},
   "outputs": [
    {
     "name": "stdout",
     "output_type": "stream",
     "text": [
      "Number of opf pechas that start with O: 4719\n",
      "few examples: ['O65B596C4', 'O4A3A200F', 'O481F4333', 'OB7654EDE', 'OC265D8CC', 'O571B737A', 'O1B49BD6A', 'O536D1AA4', 'O3DAA0784', 'O77271183']\n"
     ]
    }
   ],
   "source": [
    "from typing import List \n",
    "def filter_by_starting_char(strings: List, starting_char: str):\n",
    "    return [s for s in strings if s and s[0] == starting_char]\n",
    "\n",
    "O_opf_pechas = filter_by_starting_char(opf_pechas, 'O')\n",
    "print(f\"Number of opf pechas that start with O: {len(O_opf_pechas)}\")\n",
    "print(f\"few examples: {O_opf_pechas[:10]}\")\n",
    "\n",
    "\n",
    "with open(DATA_DIR / 'opf_pechas_batch'/ 'O_opf_pechas.txt', 'w') as f:\n",
    "    f.write('\\n'.join(O_opf_pechas))"
   ]
  },
  {
   "cell_type": "markdown",
   "metadata": {},
   "source": [
    "OPFs starting with 'O' annotation report"
   ]
  },
  {
   "cell_type": "code",
   "execution_count": 10,
   "metadata": {},
   "outputs": [
    {
     "name": "stdout",
     "output_type": "stream",
     "text": [
      "Number of rows in the report: 32\n",
      "Number of unique pechas in the report: 12\n"
     ]
    }
   ],
   "source": [
    "import pandas as pd \n",
    "\n",
    "O_annotation_content_report_path = DATA_DIR / 'annotation_content_reports' / 'O_annotation_content_report.csv'\n",
    "O_annotation_content_report_df = pd.read_csv(O_annotation_content_report_path)\n",
    "number_of_rows = len(O_annotation_content_report_df)\n",
    "O_unique_pechas = O_annotation_content_report_df['pecha_id'].unique()\n",
    "print(f\"Number of rows in the report: {number_of_rows}\")\n",
    "print(f\"Number of unique pechas in the report: {len(O_unique_pechas)}\")\n"
   ]
  }
 ],
 "metadata": {
  "kernelspec": {
   "display_name": ".venv",
   "language": "python",
   "name": "python3"
  },
  "language_info": {
   "codemirror_mode": {
    "name": "ipython",
    "version": 3
   },
   "file_extension": ".py",
   "mimetype": "text/x-python",
   "name": "python",
   "nbconvert_exporter": "python",
   "pygments_lexer": "ipython3",
   "version": "3.9.14"
  }
 },
 "nbformat": 4,
 "nbformat_minor": 2
}
